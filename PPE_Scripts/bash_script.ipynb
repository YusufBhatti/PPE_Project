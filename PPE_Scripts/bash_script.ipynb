{
 "cells": [
  {
   "cell_type": "code",
   "execution_count": 118,
   "id": "2e8202ee-b3c1-458f-989f-4ee329ac2750",
   "metadata": {},
   "outputs": [
    {
     "name": "stdout",
     "output_type": "stream",
     "text": [
      "New PPE values generated and saved to PPE_values_new.txt\n"
     ]
    }
   ],
   "source": [
    "# Python script to modify PPE_values.txt based on scaling factors from parameters_for_script.txt\n",
    "def Parameter_values(header_array):\n",
    "    parameters_file = \"parameters_for_script.txt\"\n",
    "    # Read parameters from parameters_for_script.txt into a dictionary\n",
    "    scale=[]\n",
    "    parameters = {}\n",
    "    with open(parameters_file, 'r') as f_params:\n",
    "        for line in f_params:\n",
    "            parts = line.strip().split()\n",
    "            if header_array == parts[0]:\n",
    "                parameter_name = parts[0]\n",
    "                scaling_factors = list(map(float, parts[1:]))\n",
    "                length = len(scaling_factors)\n",
    "                for i in range(length):\n",
    "                    scale.append(scaling_factors[i])\n",
    "                #scale = scaling_factors[0]\n",
    "\n",
    "    return scale\n"
   ]
  },
  {
   "cell_type": "code",
   "execution_count": null,
   "id": "39ef6cb3-44ba-4a5b-9d4f-7a5d719f7177",
   "metadata": {},
   "outputs": [],
   "source": [
    "input_file = \"PPE_values.txt\"\n",
    "output_file = \"PPE_values_new.txt\"\n",
    "import subprocess\n",
    "import os\n",
    "# Read the first line (header)\n",
    "with open(input_file, 'r') as f_in:\n",
    "    header = f_in.readline().strip()\n",
    "\n",
    "# Write the header to the new output file\n",
    "with open(output_file, 'w') as f_out:\n",
    "    f_out.write(header + \"\\n\")\n",
    "\n",
    "    # Convert the header into an array\n",
    "    header_array = header.split()\n",
    "\n",
    "    # Read the rest of the lines, starting from the second line\n",
    "    with open(input_file, 'r') as f_in:\n",
    "        next(f_in)  # Skip the header line\n",
    "        for line in f_in:\n",
    "            param_values = line.strip().split()\n",
    "\n",
    "            # Set the first three values \n",
    "            \"\"\" Commented out as this is no longer needed\n",
    "            #param_values[1] = \"1\"\n",
    "            # param_values[2] = \"0.17\"\n",
    "            # param_values[3] = \"0.08\"\n",
    "            \"\"\"\n",
    "            # Iterate over the header variables (starting from index 1)\n",
    "            for i in range(1, len(header_array)):\n",
    "                # Create a new experiment name based on the header variable\n",
    "                new_exp_name = f\"TEST_{header_array[i]}\"\n",
    "                \n",
    "                # Copy the current param_values array\n",
    "                new_param_values = param_values[:]\n",
    "                # Set the corresponding value to 4 for the current variable\n",
    "                scale_factor = Parameter_values(new_exp_name)\n",
    "                new_param_values[i] = f\"{scale_factor}\"\n",
    "                \n",
    "                # Set all other values after the first three variables to 1 if they are not already 4\n",
    "                for j in range(1, len(new_param_values)):\n",
    "                    if j != i:\n",
    "                        if j !=i:\n",
    "                            new_param_values[j] = \"1\"\n",
    "\n",
    "                # Ensure the new_param_values array has the same length as the header_array\n",
    "                if len(new_param_values) < len(header_array):\n",
    "                    while len(new_param_values) < len(header_array):\n",
    "                        new_param_values.append(\"1\")\n",
    "                elif len(new_param_values) > len(header_array):\n",
    "                    new_param_values = new_param_values[:len(header_array)]\n",
    "\n",
    "                # Construct the new line with the updated values\n",
    "                new_line = \" \".join([new_exp_name] + new_param_values[1:])\n",
    "\n",
    "                # Append the new experiment line to the output file\n",
    "                f_out.write(new_line + \"\\n\")\n",
    "                #end\n",
    "                # Stop the iteration if the new experiment name is TEST_V_SCALE_WATER\n",
    "                if new_exp_name == f\"TEST_{header_array[-4]}\":\n",
    "                    break\n",
    "            break\n",
    "\n",
    "os.rename(output_file, input_file)\n",
    "subprocess.run([\"bash\", \"fix_values.sh\"], check=True)\n",
    "print(f\"New PPE values generated and saved to {output_file}\")\n"
   ]
  },
  {
   "cell_type": "code",
   "execution_count": null,
   "id": "b0bd487b-f38d-4de5-a351-b02ddc7d885e",
   "metadata": {},
   "outputs": [],
   "source": []
  },
  {
   "cell_type": "code",
   "execution_count": null,
   "id": "e4c605de-6e89-4825-a5e5-fe59d3dab784",
   "metadata": {},
   "outputs": [],
   "source": []
  }
 ],
 "metadata": {
  "kernelspec": {
   "display_name": "Python 3 (ipykernel)",
   "language": "python",
   "name": "python3"
  },
  "language_info": {
   "codemirror_mode": {
    "name": "ipython",
    "version": 3
   },
   "file_extension": ".py",
   "mimetype": "text/x-python",
   "name": "python",
   "nbconvert_exporter": "python",
   "pygments_lexer": "ipython3",
   "version": "3.12.4"
  }
 },
 "nbformat": 4,
 "nbformat_minor": 5
}
